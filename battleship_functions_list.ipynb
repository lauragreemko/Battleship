{
 "cells": [
  {
   "cell_type": "markdown",
   "metadata": {},
   "source": [
    "**Sound functions**"
   ]
  },
  {
   "cell_type": "markdown",
   "metadata": {},
   "source": [
    "play_boat_sound()\n",
    "\n",
    "play_water_sound()\n",
    "\n",
    "play_octopus_sound()\n",
    "\n"
   ]
  },
  {
   "cell_type": "markdown",
   "metadata": {},
   "source": [
    "**Board elements functions**"
   ]
  },
  {
   "cell_type": "markdown",
   "metadata": {},
   "source": [
    "board_starter() -> returns board\n",
    "\n",
    "place_octopus(board)\n",
    "\n",
    "choose_boat_manual(available_boats_list) -> returns chosen_boat_manual\n",
    "\n",
    "choose_boat_random(available_boats_list) -> returns chosen_boat_random\n",
    "\n",
    "define_starting_position_coordenates_manual(board,chosen_boat_manual) -> returns boat_starting_position_manual, starting_column_manual, starting_row_manual"
   ]
  }
 ],
 "metadata": {
  "language_info": {
   "name": "python"
  },
  "orig_nbformat": 4
 },
 "nbformat": 4,
 "nbformat_minor": 2
}
